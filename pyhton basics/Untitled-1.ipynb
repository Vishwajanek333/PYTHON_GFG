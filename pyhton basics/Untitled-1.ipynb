{
 "cells": [
  {
   "cell_type": "markdown",
   "id": "e09097e0",
   "metadata": {},
   "source": [
    "## Python is one of the most popular programming languages. It’s simple to use, packed with features and supported by a wide range of libraries and frameworks\n",
    "- Python is a high-level, interpreted, and general-purpose dynamic programming language that focuses on code readability. \n",
    "- A high-level language,Known for its readability.\n",
    "- \"#\" is single comment,\"\"\" multi-line comment\"\"\"\n",
    "- Indentation is used to define blocks of code: tab or 4 spaces.\n",
    "\n",
    "### Famous Application Built using Python\n",
    "- YouTube: World’s largest video-sharing platform uses Python for features like video streaming and backend services.\n",
    "- Instagram: This popular social media app relies on Python’s simplicity for scaling and handling millions of users.\n",
    "- Spotify: Python is used for backend services and machine learning to personalize music recommendations.\n",
    "- Dropbox: The file hosting service uses Python for both its desktop client and server-side operations.\n",
    "- Netflix: Python powers key components of Netflix’s recommendation engine and content delivery systems (CDN).\n",
    "- Google: Python is one of the key languages used in Google for web crawling, testing and data analysis.\n",
    "\n",
    "### What can we do with Python?\n",
    "- Web Development: Frameworks like Django, Flask.\n",
    "-Data Science and Analysis: Libraries like Pandas, NumPy, Matplotlib.\n",
    "-Machine Learning and AI: TensorFlow, PyTorch, Scikit-learn.\n",
    "-Automation and Scripting: Automate repetitive tasks.\n",
    "-Game Development: Libraries like Pygame.\n",
    "- Web Scraping: Tools like BeautifulSoup, Scrapy.\n",
    "- Desktop Applications: GUI frameworks like Tkinter, PyQt.\n",
    "- Scientific Computing: SciPy, SymPy.\n",
    "- Internet of Things (IoT): MicroPython, Raspberry Pi.\n",
    "- DevOps and Cloud: Automation scripts and APIs.\n",
    "- Cybersecurity: Penetration testing and ethical hacking tools.\n",
    "\n",
    "### Advantages of Python\n",
    "- Presence of third-party modules and libraries.\n",
    "- Versatile, easy to read, learn, and write.\n",
    "- Dynamically typed language.\n",
    "- Object-Oriented and Procedural programming language.\n",
    "- Portable and interactive: Python is portable across operating systems and interactive, allowing  real-time code execution and testing\n",
    "\n",
    "### Disadvantages of Python\n",
    "-  performance : it can be  slower than complied language.\n",
    "- Global Interpreter Lock: The Global Interpreter Lock (GIL) is a mechanism in Python that prevents multiple threads from executing Python code at once. This can limit the parallelism and concurrency of some applications.\n",
    "- Memory consumption: Python can consume a lot of memory, especially when working with large datasets or running complex algorithms."
   ]
  },
  {
   "cell_type": "markdown",
   "id": "8f10bca8",
   "metadata": {},
   "source": [
    "- Web crawling is the automated process of systematically navigating and collecting data from websites, often using programs called spiders or bots\n",
    "\n",
    "-Every release of Python is open-source. Python releases have also been compatible with General Public License (GPL)\n",
    "\n",
    "\n"
   ]
  },
  {
   "cell_type": "code",
   "execution_count": 1,
   "id": "c36d3d6f",
   "metadata": {},
   "outputs": [
    {
     "name": "stdout",
     "output_type": "stream",
     "text": [
      "hello world\n"
     ]
    }
   ],
   "source": [
    "print(\"hello world\")"
   ]
  },
  {
   "cell_type": "code",
   "execution_count": null,
   "id": "a27a87e6",
   "metadata": {},
   "outputs": [
    {
     "name": "stdout",
     "output_type": "stream",
     "text": [
      "hello Vishwa in present  good afternoon 14:35, october 18  in 2025\n"
     ]
    }
   ],
   "source": [
    "#Input and Output in Python\n",
    "\n",
    "# input function is use  for take the \"input()\".\n",
    "\n",
    "name= input(\"enter the name: \")\n",
    "print(\"hello\", name ,\" good afternoon 14:35, october 18  in 2025\")\n",
    "\n",
    "\n",
    "# for output  function is use the print()\n",
    "print(\"Hello, World!\")\n"
   ]
  },
  {
   "cell_type": "code",
   "execution_count": 11,
   "id": "1b6e80b7",
   "metadata": {},
   "outputs": [
    {
     "name": "stdout",
     "output_type": "stream",
     "text": [
      "Bob\n",
      "Alice 25 New York\n"
     ]
    }
   ],
   "source": [
    "# Single variable\n",
    "s = \"Bob\"\n",
    "print(s)\n",
    "\n",
    "# Multiple Variables\n",
    "s = \"Alice\"\n",
    "age = 25\n",
    "city = \"New York\"\n",
    "print(s, age, city)"
   ]
  },
  {
   "cell_type": "code",
   "execution_count": 12,
   "id": "3e295e64",
   "metadata": {},
   "outputs": [
    {
     "name": "stdout",
     "output_type": "stream",
     "text": [
      "Total number of students:  34\n",
      "Number of boys is :  4r\n",
      "Number of girls is :  5t\n"
     ]
    }
   ],
   "source": [
    " \n",
    "# taking three inputs at a time\n",
    "x, y, z = input(\"Enter three values: \").split() # you should type all input at time onece.\n",
    "print(\"Total number of students: \", x)\n",
    "print(\"Number of boys is : \", y)\n",
    "print(\"Number of girls is : \", z)\n",
    "\n",
    "# split()  method is used for separate the variable for it."
   ]
  },
  {
   "cell_type": "code",
   "execution_count": null,
   "id": "295f0d12",
   "metadata": {},
   "outputs": [
    {
     "name": "stdout",
     "output_type": "stream",
     "text": [
      "34 min\n"
     ]
    }
   ],
   "source": [
    "#  How to Change the Type of Input in Python\n",
    " \n",
    " # 1 int input\n",
    "n = int (input(\"enter number of play a video game\"))\n",
    "print(n,\"min\")\n",
    "\n",
    "# similarly for n = float (input(\"\"))\n"
   ]
  },
  {
   "cell_type": "code",
   "execution_count": 21,
   "id": "85af0bc7",
   "metadata": {},
   "outputs": [
    {
     "name": "stdout",
     "output_type": "stream",
     "text": [
      "<class 'str'>\n",
      "<class 'int'>\n",
      "<class 'float'>\n",
      "<class 'tuple'>\n",
      "<class 'list'>\n",
      "<class 'dict'>\n",
      "<class 'bool'>\n"
     ]
    }
   ],
   "source": [
    "# To check the what type of DataType  of Input in Python\n",
    "a = \"Hello World\"\n",
    "b = 10\n",
    "c = 11.22\n",
    "d = (\"Geeks\", \"for\", \"Geeks\")\n",
    "e = [\"Geeks\", \"for\", \"Geeks\"]\n",
    "f = {\"Geeks\": 1, \"for\":2, \"Geeks\":3}\n",
    "g = True\n",
    "\n",
    "\n",
    "print(type(a))\n",
    "print(type(b))\n",
    "print(type(c))\n",
    "print(type(d))\n",
    "print(type(e))\n",
    "print(type(f))\n",
    "print(type(g))"
   ]
  },
  {
   "cell_type": "code",
   "execution_count": 17,
   "id": "cd3fef62",
   "metadata": {},
   "outputs": [
    {
     "name": "stdout",
     "output_type": "stream",
     "text": [
      "34\n",
      " ramanujan  greatest  mathematician  \n"
     ]
    }
   ],
   "source": [
    "# Python Variable :store data , not require explicit declaration of type, based value it will decided what data type taken in run time.)\n",
    "\n",
    "X= 34\n",
    "\n",
    "name= \" ramanujan  greatest  mathematician  \"\n",
    "\n",
    "print(X)\n",
    "print(name)"
   ]
  },
  {
   "cell_type": "markdown",
   "id": "94428bd0",
   "metadata": {},
   "source": [
    "### Rules for Naming Variables\n",
    "- Variable names can only contain letters, digits and underscores (_).\n",
    "\n",
    "- A variable name cannot start with a digit.\n",
    "\n",
    "- Variable names are case-sensitive (myVar and myvar are different).\n",
    "\n",
    "- Avoid using Python keywords (e.g., if, else, for) as variable names."
   ]
  },
  {
   "cell_type": "code",
   "execution_count": 19,
   "id": "ba5d4011",
   "metadata": {},
   "outputs": [
    {
     "name": "stdout",
     "output_type": "stream",
     "text": [
      "100 100 100\n",
      "1 2.5 Python\n"
     ]
    }
   ],
   "source": [
    "# Multiple Assignments\n",
    "# Python allows multiple variables to be assigned values in a single line.\n",
    "a = b = c = 100\n",
    "print(a, b, c)\n",
    "\n",
    "# Assigning Different Values :  its also possible.\n",
    "x, y, z = 1, 2.5, \"Python\"\n",
    "print(x, y, z)"
   ]
  },
  {
   "cell_type": "markdown",
   "id": "cba76e05",
   "metadata": {},
   "source": [
    "### Type Casting a Variable\n",
    "Type casting refers to the process of converting the value of one data type into another.\n",
    "- int() - Converts compatible values to an integer.\n",
    "- float() - Transforms values into floating-point numbers.\n",
    "- str() - Converts any data type into a string."
   ]
  },
  {
   "cell_type": "code",
   "execution_count": 1,
   "id": "ca63be35",
   "metadata": {},
   "outputs": [
    {
     "name": "stdout",
     "output_type": "stream",
     "text": [
      "10\n",
      "5.0\n",
      "25\n"
     ]
    }
   ],
   "source": [
    "# Casting variables\n",
    "s = \"10\"  # Initially a string\n",
    "n = int(s)  # Cast string to integer\n",
    "cnt = 5\n",
    "f = float(cnt)  # Cast integer to float\n",
    "age = 25\n",
    "s2 = str(age)  # Cast integer to string\n",
    "\n",
    "# Display results\n",
    "print(n)  \n",
    "print(f)  \n",
    "print(s2)\n"
   ]
  },
  {
   "cell_type": "code",
   "execution_count": null,
   "id": "e3d3455a",
   "metadata": {},
   "outputs": [
    {
     "name": "stdout",
     "output_type": "stream",
     "text": [
      "5 5\n",
      "Geeks 5\n",
      "computer\n"
     ]
    }
   ],
   "source": [
    "x = 5\n",
    "y = x\n",
    "\n",
    "\n",
    "print(x,y)\n",
    "\n",
    "# This is called a Shared Reference, where multiple variables reference the same object.\n",
    "x = 'Geeks'\n",
    "print(x,y)\n",
    "\n",
    "y =\"computer\"\n",
    "print(y)\n",
    "\n",
    "# The original object 5 no longer has any references and becomes eligible for garbage collection.\n",
    "\n",
    "# Key Takeaways:\n",
    "\n",
    "# Python variables hold references to objects, not the actual objects themselves.\n",
    "\n",
    "# Reassigning a variable does not affect other variables referencing the same object unless explicitly updated.\n",
    "\n",
    "\n"
   ]
  },
  {
   "cell_type": "code",
   "execution_count": null,
   "id": "96ce234e",
   "metadata": {},
   "outputs": [
    {
     "ename": "NameError",
     "evalue": "name 'x' is not defined",
     "output_type": "error",
     "traceback": [
      "\u001b[31m---------------------------------------------------------------------------\u001b[39m",
      "\u001b[31mNameError\u001b[39m                                 Traceback (most recent call last)",
      "\u001b[36mCell\u001b[39m\u001b[36m \u001b[39m\u001b[32mIn[7]\u001b[39m\u001b[32m, line 8\u001b[39m\n\u001b[32m      5\u001b[39m \u001b[38;5;66;03m# print(x)\u001b[39;00m\n\u001b[32m      7\u001b[39m \u001b[38;5;28;01mdel\u001b[39;00m x\n\u001b[32m----> \u001b[39m\u001b[32m8\u001b[39m \u001b[38;5;28mprint\u001b[39m(\u001b[43mx\u001b[49m)\n",
      "\u001b[31mNameError\u001b[39m: name 'x' is not defined"
     ]
    }
   ],
   "source": [
    "# delete  a variable using  del Keyword \n",
    "\n",
    "x = 10 \n",
    "\n",
    "# print(x)\n",
    "\n",
    "del x\n",
    "print(x)\n",
    "\n",
    "# Trying to print x after deletion will raise an error\n",
    "# print(x)  # Uncommenting this line will raise NameError: name 'x' is not defined"
   ]
  },
  {
   "cell_type": "code",
   "execution_count": 8,
   "id": "a794caae",
   "metadata": {},
   "outputs": [
    {
     "name": "stdout",
     "output_type": "stream",
     "text": [
      "10 5\n"
     ]
    }
   ],
   "source": [
    "## practical Example\n",
    "# 1.Swapping  Two Variables\n",
    "a, b = 5, 10\n",
    "a, b = b, a\n",
    "\n",
    "print(a,b)"
   ]
  },
  {
   "cell_type": "code",
   "execution_count": 9,
   "id": "13cf0cae",
   "metadata": {},
   "outputs": [
    {
     "name": "stdout",
     "output_type": "stream",
     "text": [
      "Length of the word: 6\n"
     ]
    }
   ],
   "source": [
    "# 2.Counting Characters in String\n",
    "\n",
    "word = \"Python\"\n",
    "length = len(word)\n",
    "print(\"Length of the word:\", length)\n"
   ]
  },
  {
   "cell_type": "markdown",
   "id": "b605bede",
   "metadata": {},
   "source": [
    "### Python Keywords\n",
    "\n",
    "- Keywords in Python are special reserved words that are part of the language itself.\n",
    "\n",
    "#### How to Identify Python Keywords ?\n",
    "- With Syntax Highlighting - Most of IDEs provide syntax-highlight feature. You can see Keywords appearing in different color or style.\n",
    "- Look for SyntaxError - This error will encounter if you have used any keyword incorrectly\n",
    "\n",
    "``` Hangup (SIGHUP)\n",
    "  File \"/home/guest/sandbox/Solution.py\", line 1\n",
    "    for = 10 \n",
    "        ^\n",
    "SyntaxError: invalid syntax \n",
    " "
   ]
  },
  {
   "cell_type": "code",
   "execution_count": null,
   "id": "8339e333",
   "metadata": {},
   "outputs": [
    {
     "name": "stdout",
     "output_type": "stream",
     "text": [
      "The list of keywords is : \n",
      "['False', 'None', 'True', 'and', 'as', 'assert', 'async', 'await', 'break', 'class', 'continue', 'def', 'del', 'elif', 'else', 'except', 'finally', 'for', 'from', 'global', 'if', 'import', 'in', 'is', 'lambda', 'nonlocal', 'not', 'or', 'pass', 'raise', 'return', 'try', 'while', 'with', 'yield']\n"
     ]
    }
   ],
   "source": [
    "# getting the List  of all Python keywords\n",
    "import keyword\n",
    "\n",
    "# printing all keywords at once using \"kwlist()\"\n",
    "print(\"The list of keywords is : \")\n",
    "print(keyword.kwlist)\n",
    "\"\"\"The list of keywords are: \n",
    "['False', 'None', 'True',\"__peg_parser__ 'and', 'as', 'assert', 'async', 'await', 'break', \n",
    "'class', 'continue', 'def', 'del', 'elif', 'else', 'except', 'finally', 'for', 'from', 'global', 'if', \n",
    "'import', 'in', 'is', 'lambda', 'nonlocal', 'not', 'or', 'pass', 'raise', 'return', 'try', 'while', 'with', 'yield']\"\"\"\n"
   ]
  },
  {
   "cell_type": "markdown",
   "id": "09fe0976",
   "metadata": {},
   "source": [
    "#### Category\tKeywords\n",
    "- 1.Value Keywords : True, False, None\n",
    "\n",
    "- 2.Operator Keywords : and, or, not, is, in\n",
    "- 3.Control Flow Keywords : if, else, elif, for, while, break, continue, pass, try, except, finally, raise, assert\n",
    "\n",
    "- 4.Function and Class\tdef, return, lambda, yield, class\n",
    "\n",
    "- 5.Context Management\twith, as\n",
    "- 6.Import and Module\timport, from\n",
    "- 7.Scope and Namespace\tglobal, nonlocal\n",
    "- 8.Async Programming\tasync, await"
   ]
  },
  {
   "cell_type": "markdown",
   "id": "14eface5",
   "metadata": {},
   "source": [
    "### Keywords vs Identifiers\n",
    "#### Keywords\t                  \n",
    "- Reserved words in Python that have a specific meaning.\t\n",
    "- Cannot be used as variable names.\n",
    "- Examples: if, else, for, while\t\n",
    "- Part of the Python syntax.\t\n",
    "- They cannot be redefined or changed.\n",
    "\n",
    "\n",
    "#### Identifiers\n",
    "- Names given to variables, functions, classes, etc.\n",
    "- Can be used as variable names (if not a keyword).\n",
    "- Examples: x, number, sum, result\n",
    "- User-defined, meaningful names in the code.\n",
    "- Can be defined and redefined by the programmer\n",
    "\n"
   ]
  },
  {
   "cell_type": "markdown",
   "id": "65b15d1e",
   "metadata": {},
   "source": [
    "### Python Data Types\n",
    "\n",
    "``comments\n",
    "Data types in Python are a way to classify data items. They represent the kind of value, which determines what operations can be performed on that data\n",
    "\n",
    "### he following are standard or built-in data types in Python:\n",
    "- Numeric: int, float, complex\n",
    "- Sequence Type: string, list, tuple\n",
    "- Mapping Type: dict\n",
    "- Boolean: bool\n",
    "- Set Type: set, frozenset\n",
    "- Binary Types: bytes, bytearray, memoryview-"
   ]
  },
  {
   "cell_type": "code",
   "execution_count": 1,
   "id": "4463d3ea",
   "metadata": {},
   "outputs": [
    {
     "name": "stdout",
     "output_type": "stream",
     "text": [
      "<class 'int'>\n",
      "<class 'float'>\n",
      "<class 'complex'>\n"
     ]
    }
   ],
   "source": [
    "#1. Numeric Data Types\n",
    "   #a integers: value is whole number ( +,-)\n",
    "   #b float: value is decimal number ( optinal : char \"e or E\" for both +,- integer scientific notation)\n",
    "   #c complex number:specified as (real part) + (imaginary part)j. For example - 2+3j.\n",
    "   \n",
    "   \n",
    "a = 5\n",
    "print(type(a))\n",
    "\n",
    "b = 5.0\n",
    "print(type(b))\n",
    "\n",
    "c = 2 + 4j\n",
    "print(type(c))"
   ]
  },
  {
   "cell_type": "code",
   "execution_count": 3,
   "id": "19a464d6",
   "metadata": {},
   "outputs": [
    {
     "name": "stdout",
     "output_type": "stream",
     "text": [
      "Welcome to the Vishwa World\n",
      "<class 'str'>\n",
      "e\n",
      "l\n",
      "d\n"
     ]
    }
   ],
   "source": [
    "#2. Sequence Data Types : A sequence is an ordered collection of items, which can be of similar or different data types.\n",
    "    #a String Data Type : 1.Python Strings are arrays of bytes representing Unicode characters.\n",
    "                        # 2.There is no character data type, a character is a string of length one. It is represented by str class.\n",
    "                        # 3.Strings in Python can be created using single quotes, double quotes or even triple quotes.\n",
    "                        # 4. access individual characters of a String using index.\n",
    "s = 'Welcome to the Vishwa World'\n",
    "print(s)\n",
    "\n",
    "# check data type \n",
    "print(type(s))\n",
    "\n",
    "# access string with index\n",
    "print(s[1])\n",
    "print(s[2])\n",
    "print(s[-1])"
   ]
  },
  {
   "cell_type": "code",
   "execution_count": 8,
   "id": "fe24dbb0",
   "metadata": {},
   "outputs": [
    {
     "name": "stdout",
     "output_type": "stream",
     "text": [
      "[1, 2, 3]\n",
      "['Geeks', 'For', 'vish', 4, 5]\n",
      "Accessing element from the list\n",
      "Geeks\n",
      "vish\n",
      "Accessing element using negative indexing\n",
      "5\n",
      "vish\n"
     ]
    }
   ],
   "source": [
    "# b List Data Type : its similar to array ,its ordered and mutable collection of items, very flexible .\n",
    "                   # list do not need to be of the same type. \n",
    "                   # to create  the list  : just place elements in [] .\n",
    "                    \n",
    "                    # Empty list\n",
    "a = []\n",
    "\n",
    "# list with int values\n",
    "a = [1, 2, 3]\n",
    "print(a)\n",
    "\n",
    "# list with mixed values int and String\n",
    "b = [\"Geeks\", \"For\", \"vish\", 4, 5]\n",
    "print(b)\n",
    "print(\"Accessing element from the list\")\n",
    "print(b[0])\n",
    "print(b[2])\n",
    "\n",
    "print(\"Accessing element using negative indexing\")\n",
    "print(b[-1])\n",
    "print(b[-3])"
   ]
  },
  {
   "cell_type": "code",
   "execution_count": 14,
   "id": "e1115460",
   "metadata": {},
   "outputs": [
    {
     "name": "stdout",
     "output_type": "stream",
     "text": [
      "('jav', 'html', 'bits', 'bytes')\n",
      "jav\n",
      "bytes\n",
      "html\n"
     ]
    }
   ],
   "source": [
    "#c Tuple Data Type : Tuple is an ordered collection of Python objects.\n",
    "                 #a The only difference between a tuple and a list is that tuples are immutable.\n",
    "                 #b Tuples cannot be modified after it is created.\n",
    "                 #c Tuples can contain any number of elements and of any datatype (like strings, integers, lists, etc.).\n",
    "                 #d In  tuple for one elem in () is not applicable most take multi ele.\n",
    "                 \n",
    "tup= ('jav','html','bits','bytes')\n",
    "print(tup)\n",
    "\n",
    "# access tuple items\n",
    "print(tup[0])\n",
    "print(tup[-1])\n",
    "print(tup[-3])\n",
    "                 \n"
   ]
  },
  {
   "cell_type": "code",
   "execution_count": 15,
   "id": "3bc036ca",
   "metadata": {},
   "outputs": [
    {
     "name": "stdout",
     "output_type": "stream",
     "text": [
      "<class 'bool'>\n",
      "<class 'bool'>\n"
     ]
    },
    {
     "ename": "NameError",
     "evalue": "name 'true' is not defined",
     "output_type": "error",
     "traceback": [
      "\u001b[31m---------------------------------------------------------------------------\u001b[39m",
      "\u001b[31mNameError\u001b[39m                                 Traceback (most recent call last)",
      "\u001b[36mCell\u001b[39m\u001b[36m \u001b[39m\u001b[32mIn[15]\u001b[39m\u001b[32m, line 5\u001b[39m\n\u001b[32m      3\u001b[39m \u001b[38;5;28mprint\u001b[39m(\u001b[38;5;28mtype\u001b[39m(\u001b[38;5;28;01mTrue\u001b[39;00m))\n\u001b[32m      4\u001b[39m \u001b[38;5;28mprint\u001b[39m(\u001b[38;5;28mtype\u001b[39m(\u001b[38;5;28;01mFalse\u001b[39;00m))\n\u001b[32m----> \u001b[39m\u001b[32m5\u001b[39m \u001b[38;5;28mprint\u001b[39m(\u001b[38;5;28mtype\u001b[39m(\u001b[43mtrue\u001b[49m))\n",
      "\u001b[31mNameError\u001b[39m: name 'true' is not defined"
     ]
    }
   ],
   "source": [
    "### 3. Boolean Data Type (True,False)\n",
    "                  #  Python Boolean Data type is one of the two built-in values, True or False.\n",
    "print(type(True))\n",
    "print(type(False))\n",
    "print(type(true))"
   ]
  },
  {
   "cell_type": "code",
   "execution_count": 16,
   "id": "6c8f4a83",
   "metadata": {},
   "outputs": [
    {
     "name": "stdout",
     "output_type": "stream",
     "text": [
      "1 is truthy\n",
      "0 is falsy\n"
     ]
    }
   ],
   "source": [
    "### Truthy and Falsy Values\n",
    "# In Python, truthy and falsy values are values that evaluate to True or False in a Boolean context. Truthy values behave like True, while falsy values behave like False when used in conditions.\n",
    "\n",
    "if 1:\n",
    "    print(\"1 is truthy\")\n",
    "\n",
    "if not 0:\n",
    "    print(\"0 is falsy\")\n"
   ]
  },
  {
   "cell_type": "code",
   "execution_count": null,
   "id": "f8b7f103",
   "metadata": {},
   "outputs": [
    {
     "name": "stdout",
     "output_type": "stream",
     "text": [
      "set()\n",
      "Set with the use of String:  {'F', 'o', 's', 'k', 'r', 'G', 'e'}\n",
      "Set with the use of List:  {'For', 'Geeks'}\n",
      "{'For', 'Geeks'}\n",
      "For Geeks True\n"
     ]
    }
   ],
   "source": [
    "### 4. Set Data Type :Set is an unordered collection of data types that is iterable, mutable, and has no duplicate elements.\n",
    "        #a.Create a Set in Python:using the built-in set() function with an iterable object or /---\n",
    "        #     ---a sequence by placing the sequence inside curly braces, separated by a ‘comma’.\n",
    "        #b. mixed-up data type values passed it.\n",
    "        \n",
    "# initializing empty set\n",
    "s = set()\n",
    "print(s)\n",
    "\n",
    "s1 = set(\"GeeksForGeeks\")\n",
    "print(\"Set with the use of String: \", s1)\n",
    "\n",
    "s2 = set([\"Geeks\", \"For\", \"Geeks\"])\n",
    "print(\"Set with the use of List: \", s2)\n",
    "\n",
    "# Access Set Items:\n",
    "# Set items cannot be accessed by referring to an index, \n",
    "# since sets are unordered the items have no index. \n",
    "# But we can loop through the set items using a for loop, or\n",
    "# ask if a specified value is present in a set, by using the keyword in.\n",
    "set1 = set([\"Geeks\", \"For\", \"Geeks\"]) #Duplicates are removed automatically\n",
    "print(set1) \n",
    "\n",
    "# loop through set\n",
    "for i in set1:\n",
    "   print(i, end=\" \") #prints elements one by one\n",
    "  \n",
    "# check if item exist in set   \n",
    "print(\"Geeks\" in set1)\n",
    "\n"
   ]
  },
  {
   "cell_type": "code",
   "execution_count": 23,
   "id": "b124a04c",
   "metadata": {},
   "outputs": [
    {
     "name": "stdout",
     "output_type": "stream",
     "text": [
      "{1: 'Geeks', 2: 'For', 3: 'Geeks', 'name': 'vish'}\n",
      "vish\n",
      "Geeks\n"
     ]
    }
   ],
   "source": [
    "### 5. Dictionary Data Type : key : value pair,nd data value like a maped.\n",
    "    #a - here values can be duplicated,but not key .\n",
    "    #b - dict can created by using function is dict()\n",
    "    \n",
    " # initialize empty dictionary\n",
    "d = {}\n",
    "\n",
    "d = {1: 'Geeks', 2: 'For', 3: 'Geeks','name':'vish'}\n",
    "print(d)\n",
    "\n",
    "\n",
    "\n",
    "### accessing the key-value in dictionary:two methods followed.\n",
    "     ## key can be used inside  square bracket.\n",
    "     ## using get() method  we can access dict elements.\n",
    "\n",
    "# Accessing an element using key\n",
    "print(d['name'])\n",
    "\n",
    "# Accessing a element using get\n",
    "print(d.get(3))\n",
    "\n"
   ]
  },
  {
   "cell_type": "markdown",
   "id": "ece79e88",
   "metadata": {},
   "source": [
    "### Python Operators\n",
    " - Operators: Special symbols like -, + , * , /, etc.\n",
    "-  Operands: Value on which the operator is applied.\n",
    "\n",
    "\n",
    "\n"
   ]
  },
  {
   "cell_type": "code",
   "execution_count": 24,
   "id": "c688a1dd",
   "metadata": {},
   "outputs": [
    {
     "name": "stdout",
     "output_type": "stream",
     "text": [
      "Addition: 19\n",
      "Subtraction: 11\n",
      "Multiplication: 60\n",
      "Division: 3.75\n",
      "Floor Division: 3\n",
      "Modulus: 3\n",
      "Exponentiation: 50625\n"
     ]
    }
   ],
   "source": [
    "### 1.Arithmetic Operators :+,-,*,%,/,//\n",
    "\n",
    "# Variables\n",
    "a = 15\n",
    "b = 4\n",
    "\n",
    "# Addition\n",
    "print(\"Addition:\", a + b)  \n",
    "\n",
    "# Subtraction\n",
    "print(\"Subtraction:\", a - b) \n",
    "\n",
    "# Multiplication\n",
    "print(\"Multiplication:\", a * b)  \n",
    "\n",
    "# Division\n",
    "print(\"Division:\", a / b) # float value is result\n",
    "\n",
    "# Floor Division\n",
    "print(\"Floor Division:\", a // b) # integer value is result.\n",
    "\n",
    "# Modulus\n",
    "print(\"Modulus:\", a % b) \n",
    "\n",
    "# Exponentiation\n",
    "print(\"Exponentiation:\", a ** b)"
   ]
  },
  {
   "cell_type": "code",
   "execution_count": null,
   "id": "faa10ed3",
   "metadata": {},
   "outputs": [
    {
     "name": "stdout",
     "output_type": "stream",
     "text": [
      "False\n",
      "True\n",
      "False\n",
      "True\n",
      "False\n",
      "True\n"
     ]
    }
   ],
   "source": [
    "# 2.Comparison Operators :  here  it will compare and return  True or False based on condition.\n",
    "a = 13\n",
    "b = 33\n",
    "\n",
    "print(a > b)\n",
    "print(a < b)\n",
    "print(a == b)\n",
    "print(a != b)\n",
    "print(a >= b)\n",
    "print(a <= b)"
   ]
  },
  {
   "cell_type": "code",
   "execution_count": 26,
   "id": "603c3840",
   "metadata": {},
   "outputs": [
    {
     "name": "stdout",
     "output_type": "stream",
     "text": [
      "False\n",
      "True\n",
      "False\n"
     ]
    }
   ],
   "source": [
    "# 3. Logical Operators:\"and,or,not\"\n",
    "\n",
    "a = True\n",
    "b = False\n",
    "print(a and b)\n",
    "print(a or b)\n",
    "print(not a)"
   ]
  },
  {
   "cell_type": "markdown",
   "id": "9b086df0",
   "metadata": {},
   "source": [
    "## Bitwise Operators\n",
    "\n",
    "  ##### Bitwise AND (&):\n",
    "- Operation: Compares each bit of a and b and returns 1 if both bits are 1, otherwise returns 0.\n",
    "\n",
    "``` Calculation:\n",
    "a = 10  (binary: 1010)\n",
    "b = 4   (binary: 0100)\n",
    "             ---------\n",
    "         a & b = 0000 (decimal: 0)\n",
    "```         \n",
    "\n",
    "##### Bitwise OR (|):\n",
    "\n",
    "- Operation: Compares each bit of a and b and returns 1 if at least one bit is 1.\n",
    "\n",
    "``` Calculation:\n",
    "a = 10  (binary: 1010)\n",
    "b = 4   (binary: 0100)\n",
    "      ---------\n",
    "a | b = 1110 (decimal: 14)\n",
    "```\n",
    "##### Bitwise NOT ():\n",
    "\n",
    "- Operation: Inverts all the bits of a, turning 1s into 0s and 0s into 1s.\n",
    "- to find or manual is formula : \"-(a+1)\"\n",
    "\n",
    "``` Calculation: (applies two's complement)\n",
    "a = 10  (binary: 1010)\n",
    "        ---------\n",
    "~a = 0101 (binary: 5) -> but inverts the value to -11 in decimal representation\n",
    "```\n",
    "##### Bitwise XOR (^):\n",
    "- Operation: Compares each bit of a and b.\n",
    "The resulting bit is 1 if the bits are different, and 0 if they are the same.\n",
    "\n",
    "```\n",
    "a = 10   # binary: 1010\n",
    "b = 4    # binary: 0100\n",
    "-----------------\n",
    "a ^ b = 1110  # binary: 14\n",
    "```\n",
    "##### Bitwise Right Shift (>>):\n",
    "\n",
    "- Operation: Shifts the bits of a to the right by the number of positions specified.\n",
    "Each right shift divides the number by 2 for each shift.\n",
    "\n",
    "```\n",
    "a = 10   # binary: 1010\n",
    "-----------------\n",
    "a >> 2 = 0010  # binary: 2\n",
    "```\n",
    "##### Bitwise Left Shift (<<):\n",
    "- Operation: Shifts the bits of a to the left by the number of positions specified.\n",
    "Each left shift multiplies the number by 2 for each shift.\n",
    "```\n",
    "a = 10   # binary: 1010\n",
    "-----------------\n",
    "a << 2 = 101000  # binary: 40\n",
    "```\n",
    "         "
   ]
  },
  {
   "cell_type": "code",
   "execution_count": 27,
   "id": "11ca3cfc",
   "metadata": {},
   "outputs": [
    {
     "name": "stdout",
     "output_type": "stream",
     "text": [
      "0\n",
      "14\n",
      "-11\n",
      "14\n",
      "2\n",
      "40\n"
     ]
    }
   ],
   "source": [
    "a = 10\n",
    "b = 4\n",
    "\n",
    "print(a & b)\n",
    "print(a | b)\n",
    "print(~a)\n",
    "print(a ^ b)\n",
    "print(a >> 2)\n",
    "print(a << 2)"
   ]
  },
  {
   "cell_type": "markdown",
   "id": "9fc0e4b9",
   "metadata": {},
   "source": [
    "### Assignment Operators\n",
    "- here right side is expression and left side is  opernad mostly"
   ]
  },
  {
   "cell_type": "code",
   "execution_count": 28,
   "id": "ddd772cf",
   "metadata": {},
   "outputs": [
    {
     "name": "stdout",
     "output_type": "stream",
     "text": [
      "10\n",
      "20\n",
      "10\n",
      "100\n",
      "102400\n"
     ]
    }
   ],
   "source": [
    "a = 10\n",
    "b = a\n",
    "print(b)\n",
    "b += a\n",
    "print(b)\n",
    "b -= a\n",
    "print(b)\n",
    "b *= a\n",
    "print(b)\n",
    "b <<= a\n",
    "print(b)"
   ]
  },
  {
   "cell_type": "markdown",
   "id": "47528394",
   "metadata": {},
   "source": [
    "### Identity Operators\n",
    "- In Python, is and is not are the identity operators both are used to check if two values are located on the same part of the memory.\n",
    "\n"
   ]
  },
  {
   "cell_type": "code",
   "execution_count": null,
   "id": "5720b13a",
   "metadata": {},
   "outputs": [],
   "source": [
    "a = 10\n",
    "b = 20\n",
    "c = a\n",
    "\n",
    "print(a is not a)\n",
    "print(a is c)"
   ]
  }
 ],
 "metadata": {
  "kernelspec": {
   "display_name": "myenv",
   "language": "python",
   "name": "python3"
  },
  "language_info": {
   "codemirror_mode": {
    "name": "ipython",
    "version": 3
   },
   "file_extension": ".py",
   "mimetype": "text/x-python",
   "name": "python",
   "nbconvert_exporter": "python",
   "pygments_lexer": "ipython3",
   "version": "3.12.11"
  }
 },
 "nbformat": 4,
 "nbformat_minor": 5
}
